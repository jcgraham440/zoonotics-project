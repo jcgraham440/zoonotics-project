{
 "cells": [
  {
   "cell_type": "code",
   "execution_count": 21,
   "metadata": {},
   "outputs": [],
   "source": [
    "import pandas as pd\n",
    "from sqlalchemy import create_engine"
   ]
  },
  {
   "cell_type": "code",
   "execution_count": 22,
   "metadata": {},
   "outputs": [
    {
     "data": {
      "text/plain": [
       "46024"
      ]
     },
     "execution_count": 22,
     "metadata": {},
     "output_type": "execute_result"
    }
   ],
   "source": [
    "outbreaks_file = \"Resources/NationalOutbreakPublicDataTool.csv\"\n",
    "outbreaks_df = pd.read_csv(outbreaks_file)\n",
    "len(outbreaks_df)"
   ]
  },
  {
   "cell_type": "code",
   "execution_count": 23,
   "metadata": {},
   "outputs": [],
   "source": [
    "# Clean up and transform outbreaks data\n",
    "outbreaks_cols = [\"Year\", \"Month\", \"State\", \"Primary Mode\", \"Etiology\", \"Animal Type\"]\n",
    "outbreaks_transformed = outbreaks_df[outbreaks_cols].copy()"
   ]
  },
  {
   "cell_type": "code",
   "execution_count": 24,
   "metadata": {},
   "outputs": [
    {
     "data": {
      "text/html": [
       "<div>\n",
       "<style scoped>\n",
       "    .dataframe tbody tr th:only-of-type {\n",
       "        vertical-align: middle;\n",
       "    }\n",
       "\n",
       "    .dataframe tbody tr th {\n",
       "        vertical-align: top;\n",
       "    }\n",
       "\n",
       "    .dataframe thead th {\n",
       "        text-align: right;\n",
       "    }\n",
       "</style>\n",
       "<table border=\"1\" class=\"dataframe\">\n",
       "  <thead>\n",
       "    <tr style=\"text-align: right;\">\n",
       "      <th></th>\n",
       "      <th>Year</th>\n",
       "      <th>Month</th>\n",
       "      <th>State</th>\n",
       "      <th>Primary Mode</th>\n",
       "      <th>Etiology</th>\n",
       "      <th>Animal Type</th>\n",
       "    </tr>\n",
       "  </thead>\n",
       "  <tbody>\n",
       "    <tr>\n",
       "      <th>0</th>\n",
       "      <td>2009</td>\n",
       "      <td>1</td>\n",
       "      <td>Ohio</td>\n",
       "      <td>Animal Contact</td>\n",
       "      <td>Cryptosporidium unknown</td>\n",
       "      <td>Cattle</td>\n",
       "    </tr>\n",
       "    <tr>\n",
       "      <th>1</th>\n",
       "      <td>2009</td>\n",
       "      <td>3</td>\n",
       "      <td>Montana</td>\n",
       "      <td>Animal Contact</td>\n",
       "      <td>Cryptosporidium unknown</td>\n",
       "      <td>Sheep or goats</td>\n",
       "    </tr>\n",
       "    <tr>\n",
       "      <th>2</th>\n",
       "      <td>2009</td>\n",
       "      <td>4</td>\n",
       "      <td>Ohio</td>\n",
       "      <td>Animal Contact</td>\n",
       "      <td>Salmonella enterica</td>\n",
       "      <td>Pet fish</td>\n",
       "    </tr>\n",
       "    <tr>\n",
       "      <th>3</th>\n",
       "      <td>2009</td>\n",
       "      <td>5</td>\n",
       "      <td>Ohio</td>\n",
       "      <td>Animal Contact</td>\n",
       "      <td>Cryptosporidium unknown</td>\n",
       "      <td>Cattle</td>\n",
       "    </tr>\n",
       "    <tr>\n",
       "      <th>4</th>\n",
       "      <td>2009</td>\n",
       "      <td>5</td>\n",
       "      <td>Iowa</td>\n",
       "      <td>Animal Contact</td>\n",
       "      <td>Cryptosporidium unknown</td>\n",
       "      <td>Sheep or goats</td>\n",
       "    </tr>\n",
       "  </tbody>\n",
       "</table>\n",
       "</div>"
      ],
      "text/plain": [
       "   Year  Month    State    Primary Mode                 Etiology  \\\n",
       "0  2009      1     Ohio  Animal Contact  Cryptosporidium unknown   \n",
       "1  2009      3  Montana  Animal Contact  Cryptosporidium unknown   \n",
       "2  2009      4     Ohio  Animal Contact      Salmonella enterica   \n",
       "3  2009      5     Ohio  Animal Contact  Cryptosporidium unknown   \n",
       "4  2009      5     Iowa  Animal Contact  Cryptosporidium unknown   \n",
       "\n",
       "      Animal Type  \n",
       "0          Cattle  \n",
       "1  Sheep or goats  \n",
       "2        Pet fish  \n",
       "3          Cattle  \n",
       "4  Sheep or goats  "
      ]
     },
     "execution_count": 24,
     "metadata": {},
     "output_type": "execute_result"
    }
   ],
   "source": [
    "outbreaks_transformed.dropna(inplace=True)\n",
    "outbreaks_transformed.reset_index(drop=True, inplace=True)\n",
    "outbreaks_transformed.head()"
   ]
  },
  {
   "cell_type": "code",
   "execution_count": null,
   "metadata": {},
   "outputs": [],
   "source": []
  }
 ],
 "metadata": {
  "kernelspec": {
   "display_name": "Python 3",
   "language": "python",
   "name": "python3"
  },
  "language_info": {
   "codemirror_mode": {
    "name": "ipython",
    "version": 3
   },
   "file_extension": ".py",
   "mimetype": "text/x-python",
   "name": "python",
   "nbconvert_exporter": "python",
   "pygments_lexer": "ipython3",
   "version": "3.7.3"
  }
 },
 "nbformat": 4,
 "nbformat_minor": 2
}
